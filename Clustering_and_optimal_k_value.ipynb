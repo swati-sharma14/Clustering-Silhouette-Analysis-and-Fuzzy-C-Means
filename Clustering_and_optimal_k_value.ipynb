{
  "nbformat": 4,
  "nbformat_minor": 0,
  "metadata": {
    "colab": {
      "provenance": []
    },
    "kernelspec": {
      "name": "python3",
      "display_name": "Python 3"
    },
    "language_info": {
      "name": "python"
    }
  },
  "cells": [
    {
      "cell_type": "code",
      "execution_count": null,
      "metadata": {
        "colab": {
          "base_uri": "https://localhost:8080/"
        },
        "id": "Hw3wD5ssdYlM",
        "outputId": "ca60a4ec-bb51-4e0e-aff4-e672c7a0fe60"
      },
      "outputs": [
        {
          "output_type": "stream",
          "name": "stdout",
          "text": [
            "Mounted at /content/drive\n"
          ]
        }
      ],
      "source": [
        "from google.colab import drive\n",
        "drive.mount('/content/drive')\n",
        "\n",
        "import math\n",
        "import os\n",
        "os.chdir('/content/drive/My Drive')\n",
        "\n",
        "import numpy as np\n",
        "data = np.load('kmeans_data.npy')\n"
      ]
    },
    {
      "cell_type": "code",
      "source": [
        "def length(a,b):\n",
        "  return abs(a[0]-b[0]) + abs(a[1] - b[1])\n",
        "\n",
        "def distance(a,b):\n",
        "  return (a[0]-b[0])**2 + (a[1]-b[1])**2\n",
        "\n",
        "def k_means(data,k):\n",
        "  n = len(data)\n",
        "  centroids = data[np.random.choice(data.shape[0], k, replace=False)]\n",
        "  centroids_plag = centroids.copy()\n",
        "  points = [-1 for i in range(n)]\n",
        "\n",
        "  for l in range(1000):\n",
        "    for i in range(n):\n",
        "      min = length(data[i],centroids[k-1])\n",
        "      points[i] = k - 1\n",
        "      for j in range(k-1):\n",
        "          if(length(data[i], centroids[j]) < min):\n",
        "            min = length(data[i], centroids[j])\n",
        "            points[i] = j\n",
        "\n",
        "    for i in range(k):\n",
        "      count = 0\n",
        "      x_sum = 0\n",
        "      y_sum = 0\n",
        "      for j in range(n):\n",
        "        if(points[j] == i):\n",
        "          count+=1\n",
        "          x_sum += data[j][0]\n",
        "          y_sum += data[j][1]\n",
        "\n",
        "      x_sum/= count\n",
        "      y_sum/= count\n",
        "      centroids_plag[i] = [x_sum, y_sum]\n",
        "\n",
        "    for i in range(k):\n",
        "      if(length(centroids_plag[i], centroids[i]) > (1e-5)):\n",
        "        break\n",
        "      if(i==k-1):\n",
        "        return centroids_plag, points\n",
        "    \n",
        "    centroids = centroids_plag.copy()\n",
        "\n",
        "  return centroids, points\n"
      ],
      "metadata": {
        "id": "sqSt6J96fBPr"
      },
      "execution_count": null,
      "outputs": []
    },
    {
      "cell_type": "code",
      "source": [
        "def silhoutte(data):\n",
        "  bleh = [-1 for i in range(9)]\n",
        "  for k in range(2,10):\n",
        "    centroids, points = k_means(data,k)\n",
        "    for i in range(len(points)):\n",
        "      center = centroids[points[i]]\n",
        "      count = 0\n",
        "      a = 0\n",
        "      for j in range(len(points)):\n",
        "        if(points[j] == points[i] and i!=j):\n",
        "          a += length(data[i],data[j])\n",
        "          count+=1\n",
        "      check_ci = count\n",
        "      a/=count\n",
        "\n",
        "      for j in range(len(centroids)):\n",
        "        b = np.inf\n",
        "        count = 0\n",
        "        if(points[i]!=j):\n",
        "          s = 0\n",
        "          for l in range(len(points)):\n",
        "            if(points[l] == j):\n",
        "              s+=length(data[l], data[i])\n",
        "              count += 1\n",
        "          s /= count\n",
        "          b = min(s,b)\n",
        "\n",
        "      coefficient = float(b - a) / (max(a,b))\n",
        "      if(check_ci == 1):\n",
        "        coefficient = 0\n",
        "      bleh[k-1] = coefficient\n",
        "\n",
        "  return bleh\n"
      ],
      "metadata": {
        "id": "NbG7MMuRio0t"
      },
      "execution_count": null,
      "outputs": []
    },
    {
      "cell_type": "code",
      "source": [
        "samples = silhoutte(data)"
      ],
      "metadata": {
        "id": "5PblVdyS392a"
      },
      "execution_count": null,
      "outputs": []
    },
    {
      "cell_type": "code",
      "source": [
        "k = np.argmax(samples,axis=0)\n",
        "print(k)\n",
        "print(samples)"
      ],
      "metadata": {
        "colab": {
          "base_uri": "https://localhost:8080/"
        },
        "id": "1nt8ZfitHcj5",
        "outputId": "853bdab0-c0c4-47f4-cc14-2dc69c4ca6d9"
      },
      "execution_count": null,
      "outputs": [
        {
          "output_type": "stream",
          "name": "stdout",
          "text": [
            "2\n",
            "[-1, 0.2854313002067744, nan, 0.8769053530653804, 0.8374080589005963, 0.9206707627247879, 0.8329385672114494, nan, 0.9440824263259522]\n"
          ]
        }
      ]
    },
    {
      "cell_type": "code",
      "source": [
        "def objective_function(data, membership_matrix, fuzzy_centroids, m):\n",
        "  n = len(data)\n",
        "  c = len(fuzzy_centroids)\n",
        "  sum = 0\n",
        "  for i in range(n):\n",
        "    count = 0\n",
        "    for j in range(c):\n",
        "      count += (membership_matrix[i][j]**m) * (distance(data[i],fuzzy_centroids[j]))\n",
        "    sum+=count\n",
        "\n",
        "  return sum"
      ],
      "metadata": {
        "id": "CCdSmi_5OzRr"
      },
      "execution_count": null,
      "outputs": []
    },
    {
      "cell_type": "code",
      "source": [
        "def funny_c_means(c,m, max_iterations=100):\n",
        "  n = len(data)\n",
        "  centroid = data[np.random.choice(data.shape[0], c, replace=False)]\n",
        "  membership_matrix = np.zeros((n, c))\n",
        "  for s in range(max_iterations):\n",
        "    for i in range(n):\n",
        "      for j in range(c):\n",
        "        a = length(data[i], centroid[j])\n",
        "        sum = 0\n",
        "        for l in range(c):\n",
        "          b = length(data[i], centroid[l])\n",
        "          sum += ((a/b)**((2/m) - 1))\n",
        "\n",
        "        membership_matrix[i][j] = 1/sum\n",
        "    fuzzy_centroids = np.zeros((c,2))\n",
        "    for i in range(c):\n",
        "      num = [0,0]\n",
        "      den = 0\n",
        "      for j in range(n):\n",
        "        num += (data[j] * (membership_matrix[j][i]**m))\n",
        "        den += (membership_matrix[j][i]**m)\n",
        "      fuzzy_centroids[i] = num/den\n",
        "    obj_func_val = objective_function(data, membership_matrix, fuzzy_centroids, m)\n",
        "    if obj_func_val < 0.3:\n",
        "      break\n",
        "  return obj_func_val\n"
      ],
      "metadata": {
        "id": "qrrTtrUHII4m"
      },
      "execution_count": null,
      "outputs": []
    },
    {
      "cell_type": "code",
      "source": [
        "value = np.inf\n",
        "print(k)\n",
        "value = funny_c_means(k,2, 100)\n",
        "\n",
        "print(value)"
      ],
      "metadata": {
        "id": "wc5LM7aiRFsE",
        "colab": {
          "base_uri": "https://localhost:8080/"
        },
        "outputId": "fa2572ad-5665-49c6-b0c7-3e4c3ce9f3c9"
      },
      "execution_count": null,
      "outputs": [
        {
          "output_type": "stream",
          "name": "stdout",
          "text": [
            "2\n"
          ]
        },
        {
          "output_type": "stream",
          "name": "stderr",
          "text": [
            "<ipython-input-11-79228c3ffc47>:12: RuntimeWarning: invalid value encountered in double_scalars\n",
            "  sum += ((a/b)**((2/m) - 1))\n",
            "<ipython-input-11-79228c3ffc47>:12: RuntimeWarning: divide by zero encountered in double_scalars\n",
            "  sum += ((a/b)**((2/m) - 1))\n"
          ]
        },
        {
          "output_type": "stream",
          "name": "stdout",
          "text": [
            "46611.74570570585\n"
          ]
        }
      ]
    }
  ]
}